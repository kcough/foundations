{
 "cells": [
  {
   "cell_type": "markdown",
   "metadata": {},
   "source": [
    "## homework 4: part two: investigating lists and dictionaries using functions\n",
    "\n",
    "In this assignment I will ask you to pick five relatively short texts (poems, paragraphs, short essays, song lyrics, whatever interests you). The main thing is to make sure that each text is around 10 - 20 lines or sentences long. Below, I have selected five poems by Wallace Stevens. In each cell I have made a variable that contains each poem, and then I pass that poem through a function called `text_to_dict` that makes a dictionary for each poem. The dictionary contains the title of the poem, the full text as one string, and a list that contains each line of the poem. The function will also make lists of sentences instead of lines if you want to investigate a prose text (sentence by sentence) instead of a poem (line by line).\n",
    "\n",
    "There are two parts of this assignment. \n",
    "\n",
    "**Part 1**, which should be easy, is to replace the poems with texts of your own choice--and choose to split them by lines or sentences. \n",
    "\n",
    "**Part 2** is to write functions that and investigate your texts. If you want to focus on the functions first, you can go straight to Part 2 and use the pomes I have chosen. You can then go back and enter your own texts--your functions should work no matter what text you've chosen.\n"
   ]
  },
  {
   "cell_type": "code",
   "execution_count": 1,
   "metadata": {
    "collapsed": true
   },
   "outputs": [],
   "source": [
    "#Run this cell toImport regular expressions\n",
    "#And to initialize the all texts list that will contain all of your dictionaries of text\n",
    "import re\n",
    "all_texts = []"
   ]
  },
  {
   "cell_type": "markdown",
   "metadata": {},
   "source": [
    "** understanding the text_to_dict function**\n",
    "\n",
    "You don't have to completely understand this function to use it, but you do need to understand its parameters. It takes three parameters:\n",
    "* `title` is a string you need to write inside function's parameters\n",
    "* `text` is the variable that holds the entire text\n",
    "* `poem` True/False parameter --if it is true it will split your text by line (`\\n`) \n",
    " \tIf it is false it will split your text by sentence ('[.?!])\n",
    "\n",
    "If you look at the function you will see that it builds a dictionary with the following fields:\n",
    "* `title` is the title of the text\n",
    "* `text_as_string` is the full text as a string\n",
    "* `lines` is a list of lines or sentences\n",
    "\n",
    "It returns a dictionary with those fields."
   ]
  },
  {
   "cell_type": "code",
   "execution_count": 2,
   "metadata": {
    "collapsed": true
   },
   "outputs": [],
   "source": [
    "def text_to_dict(title,text,poem):\n",
    "    dict_of_this_text = {}\n",
    "    dict_of_this_text['title'] = title\n",
    "    dict_of_this_text['text_as_string'] = text\n",
    "    if poem:\n",
    "        text_to_list = text.strip().split('\\n')\n",
    "    else:\n",
    "        text_to_list = re.split(r\"[.?!]\",text)\n",
    "    dict_of_this_text['lines'] = text_to_list\n",
    "    return dict_of_this_text"
   ]
  },
  {
   "cell_type": "markdown",
   "metadata": {},
   "source": [
    "## Part One\n",
    "\n",
    "The next five cells are exactly the same. They define five different texts, and then they pass each text through the `text_to_dict` function. And then they add the resulting dictionary to the all_texts list. \n",
    "\n",
    "In the five cells below enter your five selected texts.\n",
    "\n",
    "**You should do no coding at any point** until the very last cell before part two."
   ]
  },
  {
   "cell_type": "code",
   "execution_count": 3,
   "metadata": {
    "collapsed": true
   },
   "outputs": [],
   "source": [
    "#To change the text, just put a new text between the quotation mark\n",
    "text0 = '''\n",
    "You do not have to be good.\n",
    "You do not have to walk on your knees\n",
    "For a hundred miles through the desert, repenting.\n",
    "You only have to let the soft animal of your body\n",
    "love what it loves.\n",
    "Tell me about your despair, yours, and I will tell you mine.\n",
    "Meanwhile the world goes on.\n",
    "Meanwhile the sun and the clear pebbles of the rain\n",
    "are moving across the landscapes,\n",
    "over the prairies and the deep trees,\n",
    "the mountains and the rivers.\n",
    "Meanwhile the wild geese, high in the clean blue air,\n",
    "are heading home again.\n",
    "Whoever you are, no matter how lonely,\n",
    "the world offers itself to your imagination,\n",
    "calls to you like the wild geese, harsh and exciting --\n",
    "over and over announcing your place\n",
    "in the family of things.\n",
    "'''\n",
    "#Remember: you need to type the title into the first parameter\n",
    "#If you want to split by line choose True for the third parameter\n",
    "#If you want to split by sentence, choose False\n",
    "transform_it = text_to_dict(\"Wild Geese\",text0,True)\n",
    "all_texts.append(transform_it)"
   ]
  },
  {
   "cell_type": "code",
   "execution_count": 4,
   "metadata": {
    "collapsed": true
   },
   "outputs": [],
   "source": [
    "text1 = '''\n",
    "\n",
    "You are sitting here with us, \n",
    "but you are also out walking in a field at dawn.\n",
    "You are yourself the animal we hunt \n",
    "when you come with us on the hunt.\n",
    "You are in your body \n",
    "like a plant is solid in the ground, \n",
    "yet you are wind.\n",
    "You are the diver’s clothes \n",
    "lying empty on the beach. \n",
    "You are the fish.\n",
    "In the ocean are many bright strands \n",
    "and many dark strands like veins that are seen \n",
    "when a wing is lifted up.\n",
    "Your hidden self is blood in those, \n",
    "those veins that are lute strings \n",
    "that make ocean music, \n",
    "not the sad edge of surf \n",
    "but the sound of no shore.\n",
    "'''\n",
    "transform_it = text_to_dict(\"The Diver's Clothes Lying Empty\",text1,True)\n",
    "all_texts.append(transform_it)"
   ]
  },
  {
   "cell_type": "code",
   "execution_count": 5,
   "metadata": {
    "collapsed": true
   },
   "outputs": [],
   "source": [
    "text2 = '''\n",
    "I thought the earth remembered me,\n",
    "she took me back so tenderly,\n",
    "arranging her dark skirts, her pockets\n",
    "full of lichens and seeds.\n",
    "I slept as never before, a stone on the river bed,\n",
    "nothing between me and the white fire of the stars\n",
    "but my thoughts, and they floated light as moths\n",
    "among the branches of the perfect trees.\n",
    "All night I heard the small kingdoms\n",
    "breathing around me, the insects,\n",
    "and the birds who do their work in the darkness.\n",
    "All night I rose and fell, as if in water,\n",
    "grappling with a luminous doom. By morning\n",
    "I had vanished at least a dozen times\n",
    "into something better.\n",
    "'''\n",
    "transform_it = text_to_dict(\"Sleeping in the Forest\",text2,True)\n",
    "all_texts.append(transform_it)"
   ]
  },
  {
   "cell_type": "code",
   "execution_count": 6,
   "metadata": {},
   "outputs": [
    {
     "data": {
      "text/plain": [
       "\"The Diver's Clothes Lying Empty\""
      ]
     },
     "execution_count": 6,
     "metadata": {},
     "output_type": "execute_result"
    }
   ],
   "source": [
    "all_texts[1]['title']"
   ]
  },
  {
   "cell_type": "code",
   "execution_count": 7,
   "metadata": {
    "collapsed": true
   },
   "outputs": [],
   "source": [
    "text3 = '''\n",
    "On a summer morning\n",
    "I sat down\n",
    "on a hillside\n",
    "to think about God -\n",
    "a worthy pastime.\n",
    "Near me, I saw\n",
    "a single cricket;\n",
    "it was moving the grains of the hillside\n",
    "this way and that way.\n",
    "How great was its energy,\n",
    "how humble its effort.\n",
    "Let us hope\n",
    "it will always be like this,\n",
    "each of us going on\n",
    "in our inexplicable ways\n",
    "building the universe.\n",
    "'''\n",
    "transform_it = text_to_dict(\"Song of the Builders\",text3,True)\n",
    "all_texts.append(transform_it)"
   ]
  },
  {
   "cell_type": "code",
   "execution_count": 8,
   "metadata": {
    "collapsed": true
   },
   "outputs": [],
   "source": [
    "text4 = '''\n",
    "Did you too see it, drifting, all night, on the black river?\n",
    "Did you see it in the morning, rising into the silvery air -\n",
    "An armful of white blossoms,\n",
    "A perfect commotion of silk and linen as it leaned\n",
    "into the bondage of its wings; a snowbank, a bank of lilies,\n",
    "Biting the air with its black beak?\n",
    "Did you hear it, fluting and whistling\n",
    "A shrill dark music - like the rain pelting the trees - like a waterfall\n",
    "Knifing down the black ledges?\n",
    "And did you see it, finally, just under the clouds -\n",
    "A white cross Streaming across the sky, its feet\n",
    "Like black leaves, its wings \n",
    "Like the stretching light of the river?\n",
    "And did you feel it, in your heart, how it pertained to everything?\n",
    "And have you too finally figured out what beauty is for?\n",
    "And have you changed your life?\n",
    "'''\n",
    "transform_it = text_to_dict(\"The Swan\",text4,True)\n",
    "all_texts.append(transform_it)"
   ]
  },
  {
   "cell_type": "markdown",
   "metadata": {},
   "source": [
    "Run the two cells below to confirm that first, you only have five texts in the all_texts list, and next, look at the all_texts list to see the dictionary inside it. "
   ]
  },
  {
   "cell_type": "code",
   "execution_count": 9,
   "metadata": {},
   "outputs": [
    {
     "data": {
      "text/plain": [
       "5"
      ]
     },
     "execution_count": 9,
     "metadata": {},
     "output_type": "execute_result"
    }
   ],
   "source": [
    "len(all_texts)"
   ]
  },
  {
   "cell_type": "code",
   "execution_count": 10,
   "metadata": {},
   "outputs": [
    {
     "data": {
      "text/plain": [
       "[{'lines': ['You do not have to be good.',\n",
       "   'You do not have to walk on your knees',\n",
       "   'For a hundred miles through the desert, repenting.',\n",
       "   'You only have to let the soft animal of your body',\n",
       "   'love what it loves.',\n",
       "   'Tell me about your despair, yours, and I will tell you mine.',\n",
       "   'Meanwhile the world goes on.',\n",
       "   'Meanwhile the sun and the clear pebbles of the rain',\n",
       "   'are moving across the landscapes,',\n",
       "   'over the prairies and the deep trees,',\n",
       "   'the mountains and the rivers.',\n",
       "   'Meanwhile the wild geese, high in the clean blue air,',\n",
       "   'are heading home again.',\n",
       "   'Whoever you are, no matter how lonely,',\n",
       "   'the world offers itself to your imagination,',\n",
       "   'calls to you like the wild geese, harsh and exciting --',\n",
       "   'over and over announcing your place',\n",
       "   'in the family of things.'],\n",
       "  'text_as_string': '\\nYou do not have to be good.\\nYou do not have to walk on your knees\\nFor a hundred miles through the desert, repenting.\\nYou only have to let the soft animal of your body\\nlove what it loves.\\nTell me about your despair, yours, and I will tell you mine.\\nMeanwhile the world goes on.\\nMeanwhile the sun and the clear pebbles of the rain\\nare moving across the landscapes,\\nover the prairies and the deep trees,\\nthe mountains and the rivers.\\nMeanwhile the wild geese, high in the clean blue air,\\nare heading home again.\\nWhoever you are, no matter how lonely,\\nthe world offers itself to your imagination,\\ncalls to you like the wild geese, harsh and exciting --\\nover and over announcing your place\\nin the family of things.\\n',\n",
       "  'title': 'Wild Geese'},\n",
       " {'lines': ['You are sitting here with us, ',\n",
       "   'but you are also out walking in a field at dawn.',\n",
       "   'You are yourself the animal we hunt ',\n",
       "   'when you come with us on the hunt.',\n",
       "   'You are in your body ',\n",
       "   'like a plant is solid in the ground, ',\n",
       "   'yet you are wind.',\n",
       "   'You are the diver’s clothes ',\n",
       "   'lying empty on the beach. ',\n",
       "   'You are the fish.',\n",
       "   'In the ocean are many bright strands ',\n",
       "   'and many dark strands like veins that are seen ',\n",
       "   'when a wing is lifted up.',\n",
       "   'Your hidden self is blood in those, ',\n",
       "   'those veins that are lute strings ',\n",
       "   'that make ocean music, ',\n",
       "   'not the sad edge of surf ',\n",
       "   'but the sound of no shore.'],\n",
       "  'text_as_string': '\\n\\nYou are sitting here with us, \\nbut you are also out walking in a field at dawn.\\nYou are yourself the animal we hunt \\nwhen you come with us on the hunt.\\nYou are in your body \\nlike a plant is solid in the ground, \\nyet you are wind.\\nYou are the diver’s clothes \\nlying empty on the beach. \\nYou are the fish.\\nIn the ocean are many bright strands \\nand many dark strands like veins that are seen \\nwhen a wing is lifted up.\\nYour hidden self is blood in those, \\nthose veins that are lute strings \\nthat make ocean music, \\nnot the sad edge of surf \\nbut the sound of no shore.\\n',\n",
       "  'title': \"The Diver's Clothes Lying Empty\"},\n",
       " {'lines': ['I thought the earth remembered me,',\n",
       "   'she took me back so tenderly,',\n",
       "   'arranging her dark skirts, her pockets',\n",
       "   'full of lichens and seeds.',\n",
       "   'I slept as never before, a stone on the river bed,',\n",
       "   'nothing between me and the white fire of the stars',\n",
       "   'but my thoughts, and they floated light as moths',\n",
       "   'among the branches of the perfect trees.',\n",
       "   'All night I heard the small kingdoms',\n",
       "   'breathing around me, the insects,',\n",
       "   'and the birds who do their work in the darkness.',\n",
       "   'All night I rose and fell, as if in water,',\n",
       "   'grappling with a luminous doom. By morning',\n",
       "   'I had vanished at least a dozen times',\n",
       "   'into something better.'],\n",
       "  'text_as_string': '\\nI thought the earth remembered me,\\nshe took me back so tenderly,\\narranging her dark skirts, her pockets\\nfull of lichens and seeds.\\nI slept as never before, a stone on the river bed,\\nnothing between me and the white fire of the stars\\nbut my thoughts, and they floated light as moths\\namong the branches of the perfect trees.\\nAll night I heard the small kingdoms\\nbreathing around me, the insects,\\nand the birds who do their work in the darkness.\\nAll night I rose and fell, as if in water,\\ngrappling with a luminous doom. By morning\\nI had vanished at least a dozen times\\ninto something better.\\n',\n",
       "  'title': 'Sleeping in the Forest'},\n",
       " {'lines': ['On a summer morning',\n",
       "   'I sat down',\n",
       "   'on a hillside',\n",
       "   'to think about God -',\n",
       "   'a worthy pastime.',\n",
       "   'Near me, I saw',\n",
       "   'a single cricket;',\n",
       "   'it was moving the grains of the hillside',\n",
       "   'this way and that way.',\n",
       "   'How great was its energy,',\n",
       "   'how humble its effort.',\n",
       "   'Let us hope',\n",
       "   'it will always be like this,',\n",
       "   'each of us going on',\n",
       "   'in our inexplicable ways',\n",
       "   'building the universe.'],\n",
       "  'text_as_string': '\\nOn a summer morning\\nI sat down\\non a hillside\\nto think about God -\\na worthy pastime.\\nNear me, I saw\\na single cricket;\\nit was moving the grains of the hillside\\nthis way and that way.\\nHow great was its energy,\\nhow humble its effort.\\nLet us hope\\nit will always be like this,\\neach of us going on\\nin our inexplicable ways\\nbuilding the universe.\\n',\n",
       "  'title': 'Song of the Builders'},\n",
       " {'lines': ['Did you too see it, drifting, all night, on the black river?',\n",
       "   'Did you see it in the morning, rising into the silvery air -',\n",
       "   'An armful of white blossoms,',\n",
       "   'A perfect commotion of silk and linen as it leaned',\n",
       "   'into the bondage of its wings; a snowbank, a bank of lilies,',\n",
       "   'Biting the air with its black beak?',\n",
       "   'Did you hear it, fluting and whistling',\n",
       "   'A shrill dark music - like the rain pelting the trees - like a waterfall',\n",
       "   'Knifing down the black ledges?',\n",
       "   'And did you see it, finally, just under the clouds -',\n",
       "   'A white cross Streaming across the sky, its feet',\n",
       "   'Like black leaves, its wings ',\n",
       "   'Like the stretching light of the river?',\n",
       "   'And did you feel it, in your heart, how it pertained to everything?',\n",
       "   'And have you too finally figured out what beauty is for?',\n",
       "   'And have you changed your life?'],\n",
       "  'text_as_string': '\\nDid you too see it, drifting, all night, on the black river?\\nDid you see it in the morning, rising into the silvery air -\\nAn armful of white blossoms,\\nA perfect commotion of silk and linen as it leaned\\ninto the bondage of its wings; a snowbank, a bank of lilies,\\nBiting the air with its black beak?\\nDid you hear it, fluting and whistling\\nA shrill dark music - like the rain pelting the trees - like a waterfall\\nKnifing down the black ledges?\\nAnd did you see it, finally, just under the clouds -\\nA white cross Streaming across the sky, its feet\\nLike black leaves, its wings \\nLike the stretching light of the river?\\nAnd did you feel it, in your heart, how it pertained to everything?\\nAnd have you too finally figured out what beauty is for?\\nAnd have you changed your life?\\n',\n",
       "  'title': 'The Swan'}]"
      ]
     },
     "execution_count": 10,
     "metadata": {},
     "output_type": "execute_result"
    }
   ],
   "source": [
    "all_texts"
   ]
  },
  {
   "cell_type": "markdown",
   "metadata": {},
   "source": [
    "In the cell below, loop through all_texts and print out the title of each text. (This is the only code you need to write for Part One.)"
   ]
  },
  {
   "cell_type": "code",
   "execution_count": 11,
   "metadata": {},
   "outputs": [
    {
     "name": "stdout",
     "output_type": "stream",
     "text": [
      "Wild Geese\n",
      "The Diver's Clothes Lying Empty\n",
      "Sleeping in the Forest\n",
      "Song of the Builders\n",
      "The Swan\n"
     ]
    }
   ],
   "source": [
    "###Write your code here\n",
    "for each_text in all_texts:\n",
    "    print(each_text['title'])"
   ]
  },
  {
   "cell_type": "markdown",
   "metadata": {},
   "source": [
    "## Part Two:  searching within lists and dictionaries\n",
    "In this part, we will be searching through each text and printing out a desired result. The searches, including loops and printing should all be defined in the function. The second cell should just have to function call that executes the function. I have written an example function and call for the first search. For each function that you write you should copy the original function and modify it so what does what I ask for.\n",
    "\n",
    "For the first five functions, there are no parameters passed to the functions--the calls will just execute the function. Go step-by-step and take your time."
   ]
  },
  {
   "cell_type": "code",
   "execution_count": 12,
   "metadata": {
    "collapsed": true
   },
   "outputs": [],
   "source": [
    "def functionname( parameters ):\n",
    "   \"function_docstring\"\n",
    "   function_suite\n",
    "   return [expression]"
   ]
  },
  {
   "cell_type": "code",
   "execution_count": 13,
   "metadata": {
    "collapsed": true
   },
   "outputs": [],
   "source": [
    "def get_lengths():\n",
    "    for text in all_texts:\n",
    "        print(text['title'])\n",
    "        print(len(text['text_as_string']))\n",
    "        print(\"------------\")"
   ]
  },
  {
   "cell_type": "code",
   "execution_count": 14,
   "metadata": {},
   "outputs": [
    {
     "name": "stdout",
     "output_type": "stream",
     "text": [
      "Wild Geese\n",
      "711\n",
      "------------\n",
      "The Diver's Clothes Lying Empty\n",
      "567\n",
      "------------\n",
      "Sleeping in the Forest\n",
      "591\n",
      "------------\n",
      "Song of the Builders\n",
      "340\n",
      "------------\n",
      "The Swan\n",
      "772\n",
      "------------\n"
     ]
    }
   ],
   "source": [
    "get_lengths()"
   ]
  },
  {
   "cell_type": "markdown",
   "metadata": {},
   "source": [
    "Question 1\n",
    "Now write a function that gets the **line count for each poem** (or sentence count for each piece of prose). This function is going to be very similar to the last one. Instead of accessing the whole text via text['text_as_string'] which is a string, you need to access the list of lines/sentences and get the length of that list. Everything else should be the same."
   ]
  },
  {
   "cell_type": "code",
   "execution_count": 15,
   "metadata": {
    "collapsed": true
   },
   "outputs": [],
   "source": [
    "#Write your function here, name it get_line_count()\n",
    "def get_line_count():\n",
    "    for text in all_texts:\n",
    "        print(text['title'])\n",
    "        print(len(text['lines']))\n",
    "        print(\"------------\")"
   ]
  },
  {
   "cell_type": "code",
   "execution_count": 16,
   "metadata": {},
   "outputs": [
    {
     "name": "stdout",
     "output_type": "stream",
     "text": [
      "Wild Geese\n",
      "18\n",
      "------------\n",
      "The Diver's Clothes Lying Empty\n",
      "18\n",
      "------------\n",
      "Sleeping in the Forest\n",
      "15\n",
      "------------\n",
      "Song of the Builders\n",
      "16\n",
      "------------\n",
      "The Swan\n",
      "16\n",
      "------------\n"
     ]
    }
   ],
   "source": [
    "get_line_count()"
   ]
  },
  {
   "cell_type": "markdown",
   "metadata": {},
   "source": [
    "Question 2\n",
    "Now write a function that prints out a **random line or sentence from each text**. Again, this function will look much the same as the last ones, but instead of getting numbers you need to get actual lines. I have included the necessary import and an example of how to get random integers. Basically, for each text you need to get one element from the list of lines/ sentences with a random number between 0 and the length of the list."
   ]
  },
  {
   "cell_type": "code",
   "execution_count": 27,
   "metadata": {},
   "outputs": [],
   "source": [
    "from random import randint\n",
    "def show_random_lines():\n",
    "    for text in all_texts:\n",
    "        print(text['title'])\n",
    "        print(text['lines'][randint(0,len(text['lines']))])\n",
    "        print(\"------------\")\n",
    "#Write your function here name it show_random_lines()\n",
    "\n",
    "#This should be inside the inner loop \n",
    "#so you get a fresh random number for each text\n",
    "#And it should not be from 0 to 9, but 0 to what?\n",
    "#Keep in mind that the range (0,9) give you any number \n",
    "#from 0 to 9 including both 0 and 9.\n",
    "\n",
    "random_num = randint(0, 9)\n"
   ]
  },
  {
   "cell_type": "code",
   "execution_count": 28,
   "metadata": {},
   "outputs": [
    {
     "name": "stdout",
     "output_type": "stream",
     "text": [
      "Wild Geese\n",
      "Meanwhile the wild geese, high in the clean blue air,\n",
      "------------\n",
      "The Diver's Clothes Lying Empty\n",
      "those veins that are lute strings \n",
      "------------\n",
      "Sleeping in the Forest\n",
      "All night I rose and fell, as if in water,\n",
      "------------\n",
      "Song of the Builders\n",
      "How great was its energy,\n",
      "------------\n",
      "The Swan\n",
      "A shrill dark music - like the rain pelting the trees - like a waterfall\n",
      "------------\n"
     ]
    }
   ],
   "source": [
    "show_random_lines()"
   ]
  },
  {
   "cell_type": "markdown",
   "metadata": {},
   "source": [
    "Question 3\n",
    "This is a little bit different--instead of printing out something from each text, I want you to **print the entire text of the longest text**. Remember in the first function, I printed out the length of each text. Well, you need to test for the longest text as you look through and when you're done looping through print out the one that is longest.\n",
    "\n",
    "**Major hints!**: To do this you will need two **tracking variables** set before the loop runs: **A numerical one that tracks the longest length (the number), and string variable remembers the actual text that has that length.**\n",
    "\n",
    "Like this: longest_length = 0 and longest_text = \"\"\n",
    "\n",
    "When you loop through you need to test if each text was longer than the last one, and if it is longer--you update longest_length and longest_text to reflect the highest length, and the actual text. When the loop is over you then print out that longest_text string."
   ]
  },
  {
   "cell_type": "code",
   "execution_count": 44,
   "metadata": {
    "collapsed": true
   },
   "outputs": [],
   "source": [
    "#Write your function here, name it longest_text()\n",
    "def longest_text():\n",
    "    longest_length = 0\n",
    "    longest_text = ''\n",
    "    for text in all_texts:\n",
    "        if len(text['lines']) > longest_length:\n",
    "            longest_length = len(text['lines'])\n",
    "            longest_text = text['lines']\n",
    "    print(longest_text)\n",
    "\n",
    "#I have two cases of two separate poems with equal line lengths...how do we deal with duplicates?"
   ]
  },
  {
   "cell_type": "code",
   "execution_count": 45,
   "metadata": {},
   "outputs": [
    {
     "name": "stdout",
     "output_type": "stream",
     "text": [
      "['You do not have to be good.', 'You do not have to walk on your knees', 'For a hundred miles through the desert, repenting.', 'You only have to let the soft animal of your body', 'love what it loves.', 'Tell me about your despair, yours, and I will tell you mine.', 'Meanwhile the world goes on.', 'Meanwhile the sun and the clear pebbles of the rain', 'are moving across the landscapes,', 'over the prairies and the deep trees,', 'the mountains and the rivers.', 'Meanwhile the wild geese, high in the clean blue air,', 'are heading home again.', 'Whoever you are, no matter how lonely,', 'the world offers itself to your imagination,', 'calls to you like the wild geese, harsh and exciting --', 'over and over announcing your place', 'in the family of things.']\n"
     ]
    }
   ],
   "source": [
    "longest_text()"
   ]
  },
  {
   "cell_type": "markdown",
   "metadata": {},
   "source": [
    "Question 4\n",
    "This is kind of a combination of the first two functions--write a function that gets the **average line/sentence length for each text**."
   ]
  },
  {
   "cell_type": "code",
   "execution_count": 46,
   "metadata": {},
   "outputs": [],
   "source": [
    "#Write your function here\n",
    "#a poem has ____ many lines\n",
    "#each line is ___ characters long.\n",
    "#divide the total number of characters by the number of lines\n",
    "\n",
    "# here's what you need to do: (len(text['text_as_string'])) / (len(text['lines']))\n",
    "\n",
    "def average_line_length():\n",
    "    for text in all_texts:\n",
    "        print(len(text['text_as_string']) / len(text['lines']))"
   ]
  },
  {
   "cell_type": "code",
   "execution_count": 47,
   "metadata": {},
   "outputs": [
    {
     "name": "stdout",
     "output_type": "stream",
     "text": [
      "39.5\n",
      "31.5\n",
      "39.4\n",
      "21.25\n",
      "48.25\n"
     ]
    }
   ],
   "source": [
    "average_line_length()"
   ]
  },
  {
   "cell_type": "markdown",
   "metadata": {},
   "source": [
    "Question 5\n",
    "**Print the longest line/sentence in each text**. \n",
    "This is similar to question 3--but your two tracking variables (longest_length and longest_line) need to be placed right before the inside loop--and then you print the lines each time the inside loop ends."
   ]
  },
  {
   "cell_type": "code",
   "execution_count": 77,
   "metadata": {},
   "outputs": [],
   "source": [
    "#Write your function here\n",
    "def longest_line_in_each():\n",
    "    for text in all_texts:\n",
    "        longest_length = 0\n",
    "        longest_line_in_each = ''\n",
    "        for each_line in text['lines']:\n",
    "            #remember that 'lines' is a dictionary?? confused\n",
    "            if len(each_line) > longest_length:\n",
    "                longest_length = len(each_line)\n",
    "                longest_line_in_each = each_line\n",
    "            \n",
    "        print(longest_line_in_each)\n",
    "        print('----------------')\n",
    "    "
   ]
  },
  {
   "cell_type": "code",
   "execution_count": 78,
   "metadata": {},
   "outputs": [
    {
     "name": "stdout",
     "output_type": "stream",
     "text": [
      "Tell me about your despair, yours, and I will tell you mine.\n",
      "----------------\n",
      "but you are also out walking in a field at dawn.\n",
      "----------------\n",
      "I slept as never before, a stone on the river bed,\n",
      "----------------\n",
      "it was moving the grains of the hillside\n",
      "----------------\n",
      "A shrill dark music - like the rain pelting the trees - like a waterfall\n",
      "----------------\n"
     ]
    }
   ],
   "source": [
    "longest_line_in_each()"
   ]
  },
  {
   "cell_type": "markdown",
   "metadata": {},
   "source": [
    "Question 6\n",
    "**Print the shortest single line/sentence out of all of the texts that is greater than zero**\n",
    "This is the tricky-ish: You need to place the tracking variables outside the loop (like question 4, but the loop through all of the lines, test for the shortest one (greater than 0)."
   ]
  },
  {
   "cell_type": "code",
   "execution_count": null,
   "metadata": {
    "collapsed": true
   },
   "outputs": [],
   "source": [
    "#Write your function here"
   ]
  },
  {
   "cell_type": "code",
   "execution_count": null,
   "metadata": {
    "collapsed": true
   },
   "outputs": [],
   "source": [
    "shortest_of_all_lines()"
   ]
  },
  {
   "cell_type": "markdown",
   "metadata": {},
   "source": [
    "## searching with regular expressions\n",
    "In the functions below you will search all the texts using regular expressions. The first few of these functions should not be too challenging--you just need to adjust the regular expression inside the function. At points it gets a little more complex as you have to control the looping through the lists and dictionaries."
   ]
  },
  {
   "cell_type": "code",
   "execution_count": null,
   "metadata": {
    "collapsed": true
   },
   "outputs": [],
   "source": [
    "def get_this_word(word):\n",
    "    my_regex = r\"\\b\" + word + r\"\\b\"\n",
    "    for text in all_texts:\n",
    "        result = [line for line in text['lines'] if re.search(my_regex, line, re.IGNORECASE)]\n",
    "        if len(result) > 0:\n",
    "            print(text['title'])\n",
    "            [print(line) for line in result]\n",
    "            print(\"------------\")\n",
    "            "
   ]
  },
  {
   "cell_type": "code",
   "execution_count": null,
   "metadata": {},
   "outputs": [],
   "source": [
    "get_this_word('For')"
   ]
  },
  {
   "cell_type": "markdown",
   "metadata": {},
   "source": [
    "Question 7\n",
    "Print out the lines that start with the word entered.  You just need to adjust the regular expression here."
   ]
  },
  {
   "cell_type": "code",
   "execution_count": null,
   "metadata": {
    "collapsed": true
   },
   "outputs": [],
   "source": [
    "#Write your function here\n",
    "def line_starts_with(word):\n",
    "    my_regex = r\"^\\b\" + word + r\"\\b\"\n",
    "    for text in all_texts:\n",
    "        result = [line for line in text['lines'] if re.search(my_regex, line, re.IGNORECASE)]\n",
    "        if len(result) > 0:\n",
    "            print(text['title'])\n",
    "            [print(line) for line in result]\n",
    "            print(\"------------\")"
   ]
  },
  {
   "cell_type": "code",
   "execution_count": null,
   "metadata": {},
   "outputs": [],
   "source": [
    "line_starts_with('The')"
   ]
  },
  {
   "cell_type": "markdown",
   "metadata": {},
   "source": [
    "Question 8\n",
    "Print out the lines that end with the word entered.  You just need to adjust the regular expression here."
   ]
  },
  {
   "cell_type": "code",
   "execution_count": null,
   "metadata": {
    "collapsed": true
   },
   "outputs": [],
   "source": [
    "#Write your function here\n",
    "def line_ends_with(word):\n",
    "    my_regex = r\"\\b\" + word + r\"\\b$\"\n",
    "    for text in all_texts:\n",
    "        result = [line for line in text['lines'] if re.search(my_regex, line, re.IGNORECASE)]\n",
    "        if len(result) > 0:\n",
    "            print(text['title'])\n",
    "            [print(line) for line in result]\n",
    "            print(\"------------\")"
   ]
  },
  {
   "cell_type": "code",
   "execution_count": null,
   "metadata": {},
   "outputs": [],
   "source": [
    "line_ends_with('rain')"
   ]
  },
  {
   "cell_type": "markdown",
   "metadata": {},
   "source": [
    "Question 9\n",
    "Print out **how many times the word was found in each text.** In this case, instead of the list comprehension, you want to run a re.findall() on the string of the text (not the list) and then count the number of elements in the list of results.\n",
    "\n",
    "Hint: use the original function at the beginning of this section, and make the proper adjustments to the variable \"result\""
   ]
  },
  {
   "cell_type": "code",
   "execution_count": 72,
   "metadata": {
    "collapsed": true
   },
   "outputs": [],
   "source": [
    "#Write your function here\n",
    "def how_many_times(word):\n",
    "    my_regex = r\"\\b\" + word + r\"\\b\"\n",
    "    for text in all_texts:\n",
    "        result = [line for line in text['lines'] if re.findall(my_regex, line, re.IGNORECASE)]\n",
    "        if len(result) > 0:\n",
    "            print(text['title'])\n",
    "            [print(line) for line in result]\n",
    "            print(len(result))\n",
    "            print(\"------------\")\n",
    "            "
   ]
  },
  {
   "cell_type": "code",
   "execution_count": 73,
   "metadata": {},
   "outputs": [
    {
     "name": "stdout",
     "output_type": "stream",
     "text": [
      "Wild Geese\n",
      "You do not have to be good.\n",
      "You do not have to walk on your knees\n",
      "You only have to let the soft animal of your body\n",
      "Tell me about your despair, yours, and I will tell you mine.\n",
      "Whoever you are, no matter how lonely,\n",
      "calls to you like the wild geese, harsh and exciting --\n",
      "6\n",
      "------------\n",
      "The Diver's Clothes Lying Empty\n",
      "You are sitting here with us, \n",
      "but you are also out walking in a field at dawn.\n",
      "You are yourself the animal we hunt \n",
      "when you come with us on the hunt.\n",
      "You are in your body \n",
      "yet you are wind.\n",
      "You are the diver’s clothes \n",
      "You are the fish.\n",
      "8\n",
      "------------\n",
      "The Swan\n",
      "Did you too see it, drifting, all night, on the black river?\n",
      "Did you see it in the morning, rising into the silvery air -\n",
      "Did you hear it, fluting and whistling\n",
      "And did you see it, finally, just under the clouds -\n",
      "And did you feel it, in your heart, how it pertained to everything?\n",
      "And have you too finally figured out what beauty is for?\n",
      "And have you changed your life?\n",
      "7\n",
      "------------\n"
     ]
    }
   ],
   "source": [
    "how_many_times('you')"
   ]
  },
  {
   "cell_type": "markdown",
   "metadata": {},
   "source": [
    "Question 10\n",
    "Print out **the text that has the highest occurrence of the word** you searched for. This is similar to the last function, but here you need tracking variables like you had in Question 3.\n"
   ]
  },
  {
   "cell_type": "code",
   "execution_count": 75,
   "metadata": {},
   "outputs": [],
   "source": [
    "#Write your function here\n",
    "\n",
    "def text_with_most_occurance_of(word):\n",
    "    my_regex = r\"\\b\" + word + r\"\\b\"\n",
    "    most_occurance = 0\n",
    "    most_occurance_text = ''\n",
    "    \n",
    "    for text in all_texts:\n",
    "        if len(text['lines']) > most_occurance:\n",
    "            result = [line for line in text['lines'] if re.findall(my_regex, line, re.IGNORECASE)]\n",
    "            most_occurance = len(text['lines'])\n",
    "            most_occurance_text = text['lines']\n",
    "            print(result)\n",
    "    \n",
    "  "
   ]
  },
  {
   "cell_type": "code",
   "execution_count": 76,
   "metadata": {},
   "outputs": [
    {
     "name": "stdout",
     "output_type": "stream",
     "text": [
      "[]\n"
     ]
    }
   ],
   "source": [
    "text_with_most_occurance_of('word')"
   ]
  },
  {
   "cell_type": "markdown",
   "metadata": {},
   "source": [
    "Question 11\n",
    "Print out **lines containing words of the length asked**. We are sort of back to basics here, you just need to modify the regular expression of the first function (get_this_word(word)) so that it can take a number parameter for the length of characters in a word."
   ]
  },
  {
   "cell_type": "code",
   "execution_count": null,
   "metadata": {
    "collapsed": true
   },
   "outputs": [],
   "source": [
    "#Write your function here\n",
    "def lines_with_words_this_length(word):\n",
    "    my_regex = r\"\\b\" + word + r\"\\b\"\n",
    "    for text in all_texts:\n",
    "        result = [line for line in text['lines'] if re.search(my_regex, line, re.IGNORECASE)]\n",
    "        if len(result) > 0:\n",
    "            print(text['title'])\n",
    "            [print(line) for line in result]\n",
    "            print(\"------------\")\n",
    "            "
   ]
  },
  {
   "cell_type": "code",
   "execution_count": null,
   "metadata": {
    "collapsed": true
   },
   "outputs": [],
   "source": [
    "lines_with_words_this_length('10')"
   ]
  },
  {
   "cell_type": "markdown",
   "metadata": {
    "collapsed": true
   },
   "source": [
    "**Final question:** in this cell, describe two functions that you would like to write, not ones that you're able to write, but ones you think would be useful or interesting or fun."
   ]
  },
  {
   "cell_type": "markdown",
   "metadata": {
    "collapsed": true
   },
   "source": [
    "I think it would be interesting to compose a poem out of random lines taken from all five poems, or find the number of verbs in each text, or somehow map the sentence structure of eahc one. "
   ]
  }
 ],
 "metadata": {
  "kernelspec": {
   "display_name": "Python 3",
   "language": "python",
   "name": "python3"
  },
  "language_info": {
   "codemirror_mode": {
    "name": "ipython",
    "version": 3
   },
   "file_extension": ".py",
   "mimetype": "text/x-python",
   "name": "python",
   "nbconvert_exporter": "python",
   "pygments_lexer": "ipython3",
   "version": "3.6.1"
  }
 },
 "nbformat": 4,
 "nbformat_minor": 2
}
